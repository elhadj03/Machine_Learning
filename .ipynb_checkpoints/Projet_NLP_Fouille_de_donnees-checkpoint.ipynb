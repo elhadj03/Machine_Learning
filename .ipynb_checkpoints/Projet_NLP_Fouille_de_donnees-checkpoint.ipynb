{
 "cells": [
  {
   "cell_type": "markdown",
   "metadata": {
    "id": "o9PnLG65P0Ws"
   },
   "source": [
    "##  Projet HMIN326 -- Fouille de données\n",
    "\n",
    "# Classification de documents par opinion\n",
    "Encadrement :\n",
    "Dino Ienco, Konstantin Todorov, Pascal Poncelet\n",
    "Octobre 2020\n",
    "\n",
    "Le but de ce projet consiste à mettre en oeuvre et évaluer des méthodes de classification de documents par opinion.\n",
    "Le corpus\n",
    "\n",
    "Un jeu de données textuelles nous est mis à disposition. Il s'agit d'un corpus de 10000 documents contenant des avis d'internautes sur des films. A chaque document est associé sa polarité selon l'avis (+1 : positif, -1 : négatif). Le fichier des documents est formaté dans un tableau cvs (un avis par ligne), un autre fichier csv contient les polarités d'avis par document (- 1/+1). Une correspondance directe existe entre les numéros des lignes des documents et les polarités.\n",
    "\n",
    "## Etape 1 : Transformation des données\n",
    "\n",
    "On utilise Scikit Learn à la place de WEKA pour effectuer les transformations et vectorisations donc pas besoin de transformer en .arff comme pour le cas WEKA.Par la suite, les valeurs textuelles doivent être rendues numériques en utilisant une pondération fréquentielle (tf-idf, tf, ou autres). normalisation !.\n",
    "\n"
   ]
  },
  {
   "cell_type": "code",
   "execution_count": 1,
   "metadata": {
    "id": "7VX_iavrOXbo"
   },
   "outputs": [],
   "source": [
    "import pandas as pd\n",
    "import numpy as np\n",
    "import nltk\n",
    "import time\n",
    "from nltk.corpus import wordnet \n",
    "from nltk.stem import WordNetLemmatizer \n",
    "import spacy\n",
    "import re\n",
    "from difflib import SequenceMatcher\n",
    "import string \n",
    "import matplotlib.pyplot as plt\n",
    "#from nltk.tokenize import word_tokenize \n",
    "from nltk import pos_tag,word_tokenize\n",
    "from nltk.corpus import stopwords \n",
    "from nltk.stem.porter import PorterStemmer "
   ]
  },
  {
   "cell_type": "code",
   "execution_count": null,
   "metadata": {},
   "outputs": [],
   "source": []
  },
  {
   "cell_type": "code",
   "execution_count": 2,
   "metadata": {
    "colab": {
     "base_uri": "https://localhost:8080/"
    },
    "id": "Nwhl6SiKlZJN",
    "outputId": "194802ec-d1f0-490f-8caa-e5f9822cae4c"
   },
   "outputs": [
    {
     "ename": "OSError",
     "evalue": "[E050] Can't find model 'en_core_web_sm'. It doesn't seem to be a shortcut link, a Python package or a valid path to a data directory.",
     "output_type": "error",
     "traceback": [
      "\u001b[1;31m---------------------------------------------------------------------------\u001b[0m",
      "\u001b[1;31mOSError\u001b[0m                                   Traceback (most recent call last)",
      "\u001b[1;32m<ipython-input-2-ecfdbc762614>\u001b[0m in \u001b[0;36m<module>\u001b[1;34m\u001b[0m\n\u001b[0;32m      1\u001b[0m \u001b[1;31m#permet de telecharger tous les bibliothèques\u001b[0m\u001b[1;33m\u001b[0m\u001b[1;33m\u001b[0m\u001b[1;33m\u001b[0m\u001b[0m\n\u001b[1;32m----> 2\u001b[1;33m \u001b[0mnlp\u001b[0m \u001b[1;33m=\u001b[0m \u001b[0mspacy\u001b[0m\u001b[1;33m.\u001b[0m\u001b[0mload\u001b[0m\u001b[1;33m(\u001b[0m\u001b[1;34m'en_core_web_sm'\u001b[0m\u001b[1;33m)\u001b[0m\u001b[1;33m\u001b[0m\u001b[1;33m\u001b[0m\u001b[0m\n\u001b[0m\u001b[0;32m      3\u001b[0m \u001b[0mnltk\u001b[0m\u001b[1;33m.\u001b[0m\u001b[0mdownload\u001b[0m\u001b[1;33m(\u001b[0m\u001b[1;34m'punkt'\u001b[0m\u001b[1;33m)\u001b[0m\u001b[1;33m\u001b[0m\u001b[1;33m\u001b[0m\u001b[0m\n\u001b[0;32m      4\u001b[0m \u001b[0mnltk\u001b[0m\u001b[1;33m.\u001b[0m\u001b[0mdownload\u001b[0m\u001b[1;33m(\u001b[0m\u001b[1;34m'wordnet'\u001b[0m\u001b[1;33m)\u001b[0m\u001b[1;33m\u001b[0m\u001b[1;33m\u001b[0m\u001b[0m\n\u001b[0;32m      5\u001b[0m \u001b[0mnltk\u001b[0m\u001b[1;33m.\u001b[0m\u001b[0mdownload\u001b[0m\u001b[1;33m(\u001b[0m\u001b[1;34m'omw'\u001b[0m\u001b[1;33m)\u001b[0m\u001b[1;33m\u001b[0m\u001b[1;33m\u001b[0m\u001b[0m\n",
      "\u001b[1;32mc:\\users\\md\\appdata\\local\\programs\\python\\python37\\lib\\site-packages\\spacy\\__init__.py\u001b[0m in \u001b[0;36mload\u001b[1;34m(name, **overrides)\u001b[0m\n\u001b[0;32m     28\u001b[0m     \u001b[1;32mif\u001b[0m \u001b[0mdepr_path\u001b[0m \u001b[1;32mnot\u001b[0m \u001b[1;32min\u001b[0m \u001b[1;33m(\u001b[0m\u001b[1;32mTrue\u001b[0m\u001b[1;33m,\u001b[0m \u001b[1;32mFalse\u001b[0m\u001b[1;33m,\u001b[0m \u001b[1;32mNone\u001b[0m\u001b[1;33m)\u001b[0m\u001b[1;33m:\u001b[0m\u001b[1;33m\u001b[0m\u001b[1;33m\u001b[0m\u001b[0m\n\u001b[0;32m     29\u001b[0m         \u001b[0mwarnings\u001b[0m\u001b[1;33m.\u001b[0m\u001b[0mwarn\u001b[0m\u001b[1;33m(\u001b[0m\u001b[0mWarnings\u001b[0m\u001b[1;33m.\u001b[0m\u001b[0mW001\u001b[0m\u001b[1;33m.\u001b[0m\u001b[0mformat\u001b[0m\u001b[1;33m(\u001b[0m\u001b[0mpath\u001b[0m\u001b[1;33m=\u001b[0m\u001b[0mdepr_path\u001b[0m\u001b[1;33m)\u001b[0m\u001b[1;33m,\u001b[0m \u001b[0mDeprecationWarning\u001b[0m\u001b[1;33m)\u001b[0m\u001b[1;33m\u001b[0m\u001b[1;33m\u001b[0m\u001b[0m\n\u001b[1;32m---> 30\u001b[1;33m     \u001b[1;32mreturn\u001b[0m \u001b[0mutil\u001b[0m\u001b[1;33m.\u001b[0m\u001b[0mload_model\u001b[0m\u001b[1;33m(\u001b[0m\u001b[0mname\u001b[0m\u001b[1;33m,\u001b[0m \u001b[1;33m**\u001b[0m\u001b[0moverrides\u001b[0m\u001b[1;33m)\u001b[0m\u001b[1;33m\u001b[0m\u001b[1;33m\u001b[0m\u001b[0m\n\u001b[0m\u001b[0;32m     31\u001b[0m \u001b[1;33m\u001b[0m\u001b[0m\n\u001b[0;32m     32\u001b[0m \u001b[1;33m\u001b[0m\u001b[0m\n",
      "\u001b[1;32mc:\\users\\md\\appdata\\local\\programs\\python\\python37\\lib\\site-packages\\spacy\\util.py\u001b[0m in \u001b[0;36mload_model\u001b[1;34m(name, **overrides)\u001b[0m\n\u001b[0;32m    173\u001b[0m     \u001b[1;32melif\u001b[0m \u001b[0mhasattr\u001b[0m\u001b[1;33m(\u001b[0m\u001b[0mname\u001b[0m\u001b[1;33m,\u001b[0m \u001b[1;34m\"exists\"\u001b[0m\u001b[1;33m)\u001b[0m\u001b[1;33m:\u001b[0m  \u001b[1;31m# Path or Path-like to model data\u001b[0m\u001b[1;33m\u001b[0m\u001b[1;33m\u001b[0m\u001b[0m\n\u001b[0;32m    174\u001b[0m         \u001b[1;32mreturn\u001b[0m \u001b[0mload_model_from_path\u001b[0m\u001b[1;33m(\u001b[0m\u001b[0mname\u001b[0m\u001b[1;33m,\u001b[0m \u001b[1;33m**\u001b[0m\u001b[0moverrides\u001b[0m\u001b[1;33m)\u001b[0m\u001b[1;33m\u001b[0m\u001b[1;33m\u001b[0m\u001b[0m\n\u001b[1;32m--> 175\u001b[1;33m     \u001b[1;32mraise\u001b[0m \u001b[0mIOError\u001b[0m\u001b[1;33m(\u001b[0m\u001b[0mErrors\u001b[0m\u001b[1;33m.\u001b[0m\u001b[0mE050\u001b[0m\u001b[1;33m.\u001b[0m\u001b[0mformat\u001b[0m\u001b[1;33m(\u001b[0m\u001b[0mname\u001b[0m\u001b[1;33m=\u001b[0m\u001b[0mname\u001b[0m\u001b[1;33m)\u001b[0m\u001b[1;33m)\u001b[0m\u001b[1;33m\u001b[0m\u001b[1;33m\u001b[0m\u001b[0m\n\u001b[0m\u001b[0;32m    176\u001b[0m \u001b[1;33m\u001b[0m\u001b[0m\n\u001b[0;32m    177\u001b[0m \u001b[1;33m\u001b[0m\u001b[0m\n",
      "\u001b[1;31mOSError\u001b[0m: [E050] Can't find model 'en_core_web_sm'. It doesn't seem to be a shortcut link, a Python package or a valid path to a data directory."
     ]
    }
   ],
   "source": [
    "#permet de telecharger tous les bibliothèques\n",
    "nlp = spacy.load('en_core_web_sm')\n",
    "nltk.download('punkt')\n",
    "nltk.download('wordnet')\n",
    "nltk.download('omw')\n",
    "nltk.download('stopwords')\n",
    "nltk.download('averaged_perceptron_tagger')"
   ]
  },
  {
   "cell_type": "code",
   "execution_count": 3,
   "metadata": {
    "colab": {
     "base_uri": "https://localhost:8080/"
    },
    "id": "lPj9HmKUTjzD",
    "outputId": "f120dbd7-9938-4998-c85d-a950dc69abb3"
   },
   "outputs": [],
   "source": [
    "# Creation datafrane a partir de fichiers csv \n",
    "Dataset=pd.read_csv('dataset.csv', sep='\\t', index_col=False, header = None)\n",
    "Labels = pd.read_csv('labels.csv', sep='\\t', index_col=False, header = None)\n",
    "pd.options.display.max_colwidth = 300"
   ]
  },
  {
   "cell_type": "code",
   "execution_count": 4,
   "metadata": {},
   "outputs": [
    {
     "name": "stdout",
     "output_type": "stream",
     "text": [
      "<class 'pandas.core.frame.DataFrame'>\n",
      "RangeIndex: 10000 entries, 0 to 9999\n",
      "Data columns (total 1 columns):\n",
      " #   Column  Non-Null Count  Dtype \n",
      "---  ------  --------------  ----- \n",
      " 0   0       10000 non-null  object\n",
      "dtypes: object(1)\n",
      "memory usage: 78.2+ KB\n"
     ]
    },
    {
     "data": {
      "text/html": [
       "<div>\n",
       "<style scoped>\n",
       "    .dataframe tbody tr th:only-of-type {\n",
       "        vertical-align: middle;\n",
       "    }\n",
       "\n",
       "    .dataframe tbody tr th {\n",
       "        vertical-align: top;\n",
       "    }\n",
       "\n",
       "    .dataframe thead th {\n",
       "        text-align: right;\n",
       "    }\n",
       "</style>\n",
       "<table border=\"1\" class=\"dataframe\">\n",
       "  <thead>\n",
       "    <tr style=\"text-align: right;\">\n",
       "      <th></th>\n",
       "      <th>0</th>\n",
       "    </tr>\n",
       "  </thead>\n",
       "  <tbody>\n",
       "    <tr>\n",
       "      <th>0</th>\n",
       "      <td>I tried to finish this film three times, but it's god awful. Case in point: mom and daughter drive up to the bed and breakfast,mom stops for gas, crazy gas station weirdos mad at her hubby whose running the B&amp;B; try to rape her. She escapes, heads to B&amp;B; and instead of hubby going ballistic and...</td>\n",
       "    </tr>\n",
       "    <tr>\n",
       "      <th>1</th>\n",
       "      <td>I just got through watching this DVD at home. We love Westerns, so my husband rented it. He started apologizing to me half way through. The saddles, costumes, accents--everything was off. The part that made me so mad is where the guy didn't shoot the \"collector\" with his bow and arrow as he was ...</td>\n",
       "    </tr>\n",
       "    <tr>\n",
       "      <th>2</th>\n",
       "      <td>Oh my, this was the worst reunion movie I have ever seen. (That is saying a lot.) I am ashamed of watching.What happened in the script meetings? \"Ooooooh, I know! Let's have two stud muffins fall madly in love with the Most-Annoying-Character-Since-Cousin-Oliver.\" \"Yeah, that'll be cool!\"Even fo...</td>\n",
       "    </tr>\n",
       "    <tr>\n",
       "      <th>3</th>\n",
       "      <td>I'm sure this was one of those \"WOAH!\" attractions in 1982 when Epcot opened, but now it's just silly. The film's message is clich. The Circle-Vision is disorienting. And that awful song at the end is grating. And I really wish they'd install seats. After so much walking, all you want to do is s...</td>\n",
       "    </tr>\n",
       "    <tr>\n",
       "      <th>4</th>\n",
       "      <td>This was the worst movie I have ever seen Billy Zane in. I understand that this movie was mainly to showcase the new comers, who did pretty good for newbies, but over all, the movie was not believable.With all of the gunfire, you would think the police would have intervened. Even the coin being ...</td>\n",
       "    </tr>\n",
       "    <tr>\n",
       "      <th>5</th>\n",
       "      <td>We rented the DVD hoping for a good western. The film was pretty and the scenes reasonable, but the ideas were very bad. Here are my problems with the film.In the first part, why exactly did the bad guy kill the mine owner? Not really connected to the movie except to establish how bad he was and...</td>\n",
       "    </tr>\n",
       "    <tr>\n",
       "      <th>6</th>\n",
       "      <td>For months I've been hearing about this little movie and now I've seen it. I find it cute, cute how so many fledgling directors make movies where they combine other people's creative ideas in order to make their own one-joke premise of a movie. Troops, Swingblade, any of the million Blair Witch ...</td>\n",
       "    </tr>\n",
       "    <tr>\n",
       "      <th>7</th>\n",
       "      <td>I want to clarify a few things. I am not familiar with Ming-liang Tsai movies, and I am very familiar with art cinema; I grow up in the seventies times of Goddard, Fellini, Bergman, Bertolucci and many others.Art movies then were really ART; like paints. People did it to express their inner feel...</td>\n",
       "    </tr>\n",
       "    <tr>\n",
       "      <th>8</th>\n",
       "      <td>Designed only to annoy (or amuse) any self-respecting intelligent person. If the director's intention had been for the viewer to dislike the title character, then it would have been okay, but I know that there is no such thing as a Hollywood director who'd make a critique of America's pro-Marxis...</td>\n",
       "    </tr>\n",
       "    <tr>\n",
       "      <th>9</th>\n",
       "      <td>They changed the title of this atrocity to An Unexpected Love. The only thing worse is the film itself. The script contains dialogue that would be laughed out of a third grade play recital. At one point when the wife leaves the husband, a bad cover of All by Myself plays over the soundtrack! No ...</td>\n",
       "    </tr>\n",
       "  </tbody>\n",
       "</table>\n",
       "</div>"
      ],
      "text/plain": [
       "                                                                                                                                                                                                                                                                                                             0\n",
       "0  I tried to finish this film three times, but it's god awful. Case in point: mom and daughter drive up to the bed and breakfast,mom stops for gas, crazy gas station weirdos mad at her hubby whose running the B&B; try to rape her. She escapes, heads to B&B; and instead of hubby going ballistic and...\n",
       "1  I just got through watching this DVD at home. We love Westerns, so my husband rented it. He started apologizing to me half way through. The saddles, costumes, accents--everything was off. The part that made me so mad is where the guy didn't shoot the \"collector\" with his bow and arrow as he was ...\n",
       "2  Oh my, this was the worst reunion movie I have ever seen. (That is saying a lot.) I am ashamed of watching.What happened in the script meetings? \"Ooooooh, I know! Let's have two stud muffins fall madly in love with the Most-Annoying-Character-Since-Cousin-Oliver.\" \"Yeah, that'll be cool!\"Even fo...\n",
       "3  I'm sure this was one of those \"WOAH!\" attractions in 1982 when Epcot opened, but now it's just silly. The film's message is clich. The Circle-Vision is disorienting. And that awful song at the end is grating. And I really wish they'd install seats. After so much walking, all you want to do is s...\n",
       "4  This was the worst movie I have ever seen Billy Zane in. I understand that this movie was mainly to showcase the new comers, who did pretty good for newbies, but over all, the movie was not believable.With all of the gunfire, you would think the police would have intervened. Even the coin being ...\n",
       "5  We rented the DVD hoping for a good western. The film was pretty and the scenes reasonable, but the ideas were very bad. Here are my problems with the film.In the first part, why exactly did the bad guy kill the mine owner? Not really connected to the movie except to establish how bad he was and...\n",
       "6  For months I've been hearing about this little movie and now I've seen it. I find it cute, cute how so many fledgling directors make movies where they combine other people's creative ideas in order to make their own one-joke premise of a movie. Troops, Swingblade, any of the million Blair Witch ...\n",
       "7  I want to clarify a few things. I am not familiar with Ming-liang Tsai movies, and I am very familiar with art cinema; I grow up in the seventies times of Goddard, Fellini, Bergman, Bertolucci and many others.Art movies then were really ART; like paints. People did it to express their inner feel...\n",
       "8  Designed only to annoy (or amuse) any self-respecting intelligent person. If the director's intention had been for the viewer to dislike the title character, then it would have been okay, but I know that there is no such thing as a Hollywood director who'd make a critique of America's pro-Marxis...\n",
       "9  They changed the title of this atrocity to An Unexpected Love. The only thing worse is the film itself. The script contains dialogue that would be laughed out of a third grade play recital. At one point when the wife leaves the husband, a bad cover of All by Myself plays over the soundtrack! No ..."
      ]
     },
     "execution_count": 4,
     "metadata": {},
     "output_type": "execute_result"
    }
   ],
   "source": [
    "Dataset.info()\n",
    "Dataset.head(10)  # si on veut afficher 15 lignes sinon 5 par defaut .head()"
   ]
  },
  {
   "cell_type": "code",
   "execution_count": 5,
   "metadata": {},
   "outputs": [
    {
     "name": "stdout",
     "output_type": "stream",
     "text": [
      "<class 'pandas.core.frame.DataFrame'>\n",
      "RangeIndex: 10000 entries, 0 to 9999\n",
      "Data columns (total 1 columns):\n",
      " #   Column  Non-Null Count  Dtype\n",
      "---  ------  --------------  -----\n",
      " 0   0       10000 non-null  int64\n",
      "dtypes: int64(1)\n",
      "memory usage: 78.2 KB\n"
     ]
    },
    {
     "data": {
      "text/html": [
       "<div>\n",
       "<style scoped>\n",
       "    .dataframe tbody tr th:only-of-type {\n",
       "        vertical-align: middle;\n",
       "    }\n",
       "\n",
       "    .dataframe tbody tr th {\n",
       "        vertical-align: top;\n",
       "    }\n",
       "\n",
       "    .dataframe thead th {\n",
       "        text-align: right;\n",
       "    }\n",
       "</style>\n",
       "<table border=\"1\" class=\"dataframe\">\n",
       "  <thead>\n",
       "    <tr style=\"text-align: right;\">\n",
       "      <th></th>\n",
       "      <th>0</th>\n",
       "    </tr>\n",
       "  </thead>\n",
       "  <tbody>\n",
       "    <tr>\n",
       "      <th>0</th>\n",
       "      <td>-1</td>\n",
       "    </tr>\n",
       "    <tr>\n",
       "      <th>1</th>\n",
       "      <td>-1</td>\n",
       "    </tr>\n",
       "    <tr>\n",
       "      <th>2</th>\n",
       "      <td>-1</td>\n",
       "    </tr>\n",
       "    <tr>\n",
       "      <th>3</th>\n",
       "      <td>-1</td>\n",
       "    </tr>\n",
       "    <tr>\n",
       "      <th>4</th>\n",
       "      <td>-1</td>\n",
       "    </tr>\n",
       "    <tr>\n",
       "      <th>...</th>\n",
       "      <td>...</td>\n",
       "    </tr>\n",
       "    <tr>\n",
       "      <th>95</th>\n",
       "      <td>-1</td>\n",
       "    </tr>\n",
       "    <tr>\n",
       "      <th>96</th>\n",
       "      <td>-1</td>\n",
       "    </tr>\n",
       "    <tr>\n",
       "      <th>97</th>\n",
       "      <td>-1</td>\n",
       "    </tr>\n",
       "    <tr>\n",
       "      <th>98</th>\n",
       "      <td>-1</td>\n",
       "    </tr>\n",
       "    <tr>\n",
       "      <th>99</th>\n",
       "      <td>-1</td>\n",
       "    </tr>\n",
       "  </tbody>\n",
       "</table>\n",
       "<p>100 rows × 1 columns</p>\n",
       "</div>"
      ],
      "text/plain": [
       "    0\n",
       "0  -1\n",
       "1  -1\n",
       "2  -1\n",
       "3  -1\n",
       "4  -1\n",
       ".. ..\n",
       "95 -1\n",
       "96 -1\n",
       "97 -1\n",
       "98 -1\n",
       "99 -1\n",
       "\n",
       "[100 rows x 1 columns]"
      ]
     },
     "execution_count": 5,
     "metadata": {},
     "output_type": "execute_result"
    }
   ],
   "source": [
    "Labels.info()\n",
    "Labels.head(100)"
   ]
  },
  {
   "cell_type": "markdown",
   "metadata": {},
   "source": [
    "### Vectorisarion"
   ]
  },
  {
   "cell_type": "markdown",
   "metadata": {},
   "source": [
    "### 1. Affichage et exploration du dataset"
   ]
  },
  {
   "cell_type": "code",
   "execution_count": 28,
   "metadata": {
    "colab": {
     "base_uri": "https://localhost:8080/"
    },
    "id": "Qq_8g0uoXtKZ",
    "outputId": "b54d2161-8cd5-46fa-ce2b-91b5ed6dfcfb"
   },
   "outputs": [
    {
     "data": {
      "text/plain": [
       "0    0\n",
       "dtype: int64"
      ]
     },
     "execution_count": 28,
     "metadata": {},
     "output_type": "execute_result"
    }
   ],
   "source": [
    "\"\"\" Check for missing values: Machine learning models usually require complete data. \"\"\"\n",
    "\n",
    "#retourne le nombre de valeurs manquantes. refere aux cellules vides ou donnees absentes selon le modele \n",
    "#https://miamioh.instructure.com/courses/38817/pages/data-cleaning pour plus de comprehension\n",
    "Dataset.isnull().sum()   "
   ]
  },
  {
   "cell_type": "markdown",
   "metadata": {
    "id": "x8LUUchTZQW8"
   },
   "source": [
    "#### Concatenation of the two files dataset and labels( in positive and negative )"
   ]
  },
  {
   "cell_type": "code",
   "execution_count": 7,
   "metadata": {
    "id": "gfjZlhAQfEC_"
   },
   "outputs": [],
   "source": [
    "pd.set_option('display.max_columns', 350)"
   ]
  },
  {
   "cell_type": "code",
   "execution_count": 8,
   "metadata": {
    "colab": {
     "base_uri": "https://localhost:8080/",
     "height": 181
    },
    "id": "BsiDS2hwZPsS",
    "outputId": "fe5523a8-1b9f-4d86-eaec-aa5d4df68049"
   },
   "outputs": [
    {
     "data": {
      "text/html": [
       "<div>\n",
       "<style scoped>\n",
       "    .dataframe tbody tr th:only-of-type {\n",
       "        vertical-align: middle;\n",
       "    }\n",
       "\n",
       "    .dataframe tbody tr th {\n",
       "        vertical-align: top;\n",
       "    }\n",
       "\n",
       "    .dataframe thead th {\n",
       "        text-align: right;\n",
       "    }\n",
       "</style>\n",
       "<table border=\"1\" class=\"dataframe\">\n",
       "  <thead>\n",
       "    <tr style=\"text-align: right;\">\n",
       "      <th></th>\n",
       "      <th>0</th>\n",
       "      <th>1</th>\n",
       "    </tr>\n",
       "  </thead>\n",
       "  <tbody>\n",
       "    <tr>\n",
       "      <th>0</th>\n",
       "      <td>I tried to finish this film three times, but it's god awful. Case in point: mom and daughter drive up to the bed and breakfast,mom stops for gas, crazy gas station weirdos mad at her hubby whose running the B&amp;B; try to rape her. She escapes, heads to B&amp;B; and instead of hubby going ballistic and...</td>\n",
       "      <td>-1</td>\n",
       "    </tr>\n",
       "    <tr>\n",
       "      <th>1</th>\n",
       "      <td>I just got through watching this DVD at home. We love Westerns, so my husband rented it. He started apologizing to me half way through. The saddles, costumes, accents--everything was off. The part that made me so mad is where the guy didn't shoot the \"collector\" with his bow and arrow as he was ...</td>\n",
       "      <td>-1</td>\n",
       "    </tr>\n",
       "    <tr>\n",
       "      <th>2</th>\n",
       "      <td>Oh my, this was the worst reunion movie I have ever seen. (That is saying a lot.) I am ashamed of watching.What happened in the script meetings? \"Ooooooh, I know! Let's have two stud muffins fall madly in love with the Most-Annoying-Character-Since-Cousin-Oliver.\" \"Yeah, that'll be cool!\"Even fo...</td>\n",
       "      <td>-1</td>\n",
       "    </tr>\n",
       "    <tr>\n",
       "      <th>3</th>\n",
       "      <td>I'm sure this was one of those \"WOAH!\" attractions in 1982 when Epcot opened, but now it's just silly. The film's message is clich. The Circle-Vision is disorienting. And that awful song at the end is grating. And I really wish they'd install seats. After so much walking, all you want to do is s...</td>\n",
       "      <td>-1</td>\n",
       "    </tr>\n",
       "    <tr>\n",
       "      <th>4</th>\n",
       "      <td>This was the worst movie I have ever seen Billy Zane in. I understand that this movie was mainly to showcase the new comers, who did pretty good for newbies, but over all, the movie was not believable.With all of the gunfire, you would think the police would have intervened. Even the coin being ...</td>\n",
       "      <td>-1</td>\n",
       "    </tr>\n",
       "    <tr>\n",
       "      <th>...</th>\n",
       "      <td>...</td>\n",
       "      <td>...</td>\n",
       "    </tr>\n",
       "    <tr>\n",
       "      <th>9995</th>\n",
       "      <td>One of the very best Three Stooges shorts ever. A spooky house full of evil guys and \"The Goon\" challenge the Alert Detective Agency's best men. Shemp is in top form in the famous in-the-dark scene. Emil Sitka provides excellent support in his Mr. Goodrich role, as the target of a murder plot. B...</td>\n",
       "      <td>1</td>\n",
       "    </tr>\n",
       "    <tr>\n",
       "      <th>9996</th>\n",
       "      <td>This film is close to be my favorite piece of celluloid. There is really not much I'd need or want to say here. Except maybe \"See this film\" and \"Enjoy the excellent work by Daniel and Pascal\", who carries you through this neat, funny and heartbreaking story about 'spending your eighth day' - yo...</td>\n",
       "      <td>1</td>\n",
       "    </tr>\n",
       "    <tr>\n",
       "      <th>9997</th>\n",
       "      <td>I had lost faith in Sooraj R. Barjatya after the movie Main Prem Ki Deewani hoon, then a year back now I saw promos for Vivah which looked good. But I didn't want to waste my hard earned money watching it in cinema. When the film first came out on DVD I rented it and watched and I loved the movi...</td>\n",
       "      <td>1</td>\n",
       "    </tr>\n",
       "    <tr>\n",
       "      <th>9998</th>\n",
       "      <td>This is one of the most calming, relaxing, and beautifully made animation films I've ever seen. With beautiful music throughout the movie, the sounds and music can make you feel like you're in the movie! This movie is not just great for kids, but adults too. It teaches you lessons, such as never...</td>\n",
       "      <td>1</td>\n",
       "    </tr>\n",
       "    <tr>\n",
       "      <th>9999</th>\n",
       "      <td>I recorded this ages ago but only got round to watching it today. I have been ill so had run out of stuff to watch! I am so glad I saw it, and which I could erase my memory and watch i again for the first time. This movie is so wonderful! It reminded me very much of Fried Green Tomatoes At The W...</td>\n",
       "      <td>1</td>\n",
       "    </tr>\n",
       "  </tbody>\n",
       "</table>\n",
       "<p>10000 rows × 2 columns</p>\n",
       "</div>"
      ],
      "text/plain": [
       "                                                                                                                                                                                                                                                                                                                0  \\\n",
       "0     I tried to finish this film three times, but it's god awful. Case in point: mom and daughter drive up to the bed and breakfast,mom stops for gas, crazy gas station weirdos mad at her hubby whose running the B&B; try to rape her. She escapes, heads to B&B; and instead of hubby going ballistic and...   \n",
       "1     I just got through watching this DVD at home. We love Westerns, so my husband rented it. He started apologizing to me half way through. The saddles, costumes, accents--everything was off. The part that made me so mad is where the guy didn't shoot the \"collector\" with his bow and arrow as he was ...   \n",
       "2     Oh my, this was the worst reunion movie I have ever seen. (That is saying a lot.) I am ashamed of watching.What happened in the script meetings? \"Ooooooh, I know! Let's have two stud muffins fall madly in love with the Most-Annoying-Character-Since-Cousin-Oliver.\" \"Yeah, that'll be cool!\"Even fo...   \n",
       "3     I'm sure this was one of those \"WOAH!\" attractions in 1982 when Epcot opened, but now it's just silly. The film's message is clich. The Circle-Vision is disorienting. And that awful song at the end is grating. And I really wish they'd install seats. After so much walking, all you want to do is s...   \n",
       "4     This was the worst movie I have ever seen Billy Zane in. I understand that this movie was mainly to showcase the new comers, who did pretty good for newbies, but over all, the movie was not believable.With all of the gunfire, you would think the police would have intervened. Even the coin being ...   \n",
       "...                                                                                                                                                                                                                                                                                                           ...   \n",
       "9995  One of the very best Three Stooges shorts ever. A spooky house full of evil guys and \"The Goon\" challenge the Alert Detective Agency's best men. Shemp is in top form in the famous in-the-dark scene. Emil Sitka provides excellent support in his Mr. Goodrich role, as the target of a murder plot. B...   \n",
       "9996  This film is close to be my favorite piece of celluloid. There is really not much I'd need or want to say here. Except maybe \"See this film\" and \"Enjoy the excellent work by Daniel and Pascal\", who carries you through this neat, funny and heartbreaking story about 'spending your eighth day' - yo...   \n",
       "9997  I had lost faith in Sooraj R. Barjatya after the movie Main Prem Ki Deewani hoon, then a year back now I saw promos for Vivah which looked good. But I didn't want to waste my hard earned money watching it in cinema. When the film first came out on DVD I rented it and watched and I loved the movi...   \n",
       "9998  This is one of the most calming, relaxing, and beautifully made animation films I've ever seen. With beautiful music throughout the movie, the sounds and music can make you feel like you're in the movie! This movie is not just great for kids, but adults too. It teaches you lessons, such as never...   \n",
       "9999  I recorded this ages ago but only got round to watching it today. I have been ill so had run out of stuff to watch! I am so glad I saw it, and which I could erase my memory and watch i again for the first time. This movie is so wonderful! It reminded me very much of Fried Green Tomatoes At The W...   \n",
       "\n",
       "      1  \n",
       "0    -1  \n",
       "1    -1  \n",
       "2    -1  \n",
       "3    -1  \n",
       "4    -1  \n",
       "...  ..  \n",
       "9995  1  \n",
       "9996  1  \n",
       "9997  1  \n",
       "9998  1  \n",
       "9999  1  \n",
       "\n",
       "[10000 rows x 2 columns]"
      ]
     },
     "execution_count": 8,
     "metadata": {},
     "output_type": "execute_result"
    }
   ],
   "source": [
    "#la concatenation va nous permettre de travailler sur un meme fichier, il suffit juste d'appeler la colonne concernee\n",
    "fullDataset=pd.concat([Dataset,Labels],axis=1,ignore_index=True,verify_integrity=True)\n",
    "fullDataset"
   ]
  },
  {
   "cell_type": "code",
   "execution_count": 9,
   "metadata": {
    "colab": {
     "base_uri": "https://localhost:8080/"
    },
    "id": "8WHWGrzIX0vp",
    "outputId": "2b2f27b4-83d6-4683-d405-0a430fc18c3c"
   },
   "outputs": [
    {
     "data": {
      "text/plain": [
       "Index(['message', 'labels'], dtype='object')"
      ]
     },
     "execution_count": 9,
     "metadata": {},
     "output_type": "execute_result"
    }
   ],
   "source": [
    "fullDataset=fullDataset.rename(columns={0:'message', \n",
    "                                        1:'labels'\n",
    "                                        })\n",
    "fullDataset.columns"
   ]
  },
  {
   "cell_type": "code",
   "execution_count": 10,
   "metadata": {
    "colab": {
     "base_uri": "https://localhost:8080/",
     "height": 419
    },
    "id": "Hb53XmGDf_y4",
    "outputId": "f214d0cb-e5fb-430a-c19b-0ec8101cf9f6"
   },
   "outputs": [
    {
     "data": {
      "text/html": [
       "<div>\n",
       "<style scoped>\n",
       "    .dataframe tbody tr th:only-of-type {\n",
       "        vertical-align: middle;\n",
       "    }\n",
       "\n",
       "    .dataframe tbody tr th {\n",
       "        vertical-align: top;\n",
       "    }\n",
       "\n",
       "    .dataframe thead th {\n",
       "        text-align: right;\n",
       "    }\n",
       "</style>\n",
       "<table border=\"1\" class=\"dataframe\">\n",
       "  <thead>\n",
       "    <tr style=\"text-align: right;\">\n",
       "      <th></th>\n",
       "      <th>message</th>\n",
       "      <th>labels</th>\n",
       "    </tr>\n",
       "  </thead>\n",
       "  <tbody>\n",
       "    <tr>\n",
       "      <th>0</th>\n",
       "      <td>I tried to finish this film three times, but it's god awful. Case in point: mom and daughter drive up to the bed and breakfast,mom stops for gas, crazy gas station weirdos mad at her hubby whose running the B&amp;B; try to rape her. She escapes, heads to B&amp;B; and instead of hubby going ballistic and...</td>\n",
       "      <td>-1</td>\n",
       "    </tr>\n",
       "    <tr>\n",
       "      <th>1</th>\n",
       "      <td>I just got through watching this DVD at home. We love Westerns, so my husband rented it. He started apologizing to me half way through. The saddles, costumes, accents--everything was off. The part that made me so mad is where the guy didn't shoot the \"collector\" with his bow and arrow as he was ...</td>\n",
       "      <td>-1</td>\n",
       "    </tr>\n",
       "    <tr>\n",
       "      <th>2</th>\n",
       "      <td>Oh my, this was the worst reunion movie I have ever seen. (That is saying a lot.) I am ashamed of watching.What happened in the script meetings? \"Ooooooh, I know! Let's have two stud muffins fall madly in love with the Most-Annoying-Character-Since-Cousin-Oliver.\" \"Yeah, that'll be cool!\"Even fo...</td>\n",
       "      <td>-1</td>\n",
       "    </tr>\n",
       "    <tr>\n",
       "      <th>3</th>\n",
       "      <td>I'm sure this was one of those \"WOAH!\" attractions in 1982 when Epcot opened, but now it's just silly. The film's message is clich. The Circle-Vision is disorienting. And that awful song at the end is grating. And I really wish they'd install seats. After so much walking, all you want to do is s...</td>\n",
       "      <td>-1</td>\n",
       "    </tr>\n",
       "    <tr>\n",
       "      <th>4</th>\n",
       "      <td>This was the worst movie I have ever seen Billy Zane in. I understand that this movie was mainly to showcase the new comers, who did pretty good for newbies, but over all, the movie was not believable.With all of the gunfire, you would think the police would have intervened. Even the coin being ...</td>\n",
       "      <td>-1</td>\n",
       "    </tr>\n",
       "    <tr>\n",
       "      <th>...</th>\n",
       "      <td>...</td>\n",
       "      <td>...</td>\n",
       "    </tr>\n",
       "    <tr>\n",
       "      <th>9995</th>\n",
       "      <td>One of the very best Three Stooges shorts ever. A spooky house full of evil guys and \"The Goon\" challenge the Alert Detective Agency's best men. Shemp is in top form in the famous in-the-dark scene. Emil Sitka provides excellent support in his Mr. Goodrich role, as the target of a murder plot. B...</td>\n",
       "      <td>1</td>\n",
       "    </tr>\n",
       "    <tr>\n",
       "      <th>9996</th>\n",
       "      <td>This film is close to be my favorite piece of celluloid. There is really not much I'd need or want to say here. Except maybe \"See this film\" and \"Enjoy the excellent work by Daniel and Pascal\", who carries you through this neat, funny and heartbreaking story about 'spending your eighth day' - yo...</td>\n",
       "      <td>1</td>\n",
       "    </tr>\n",
       "    <tr>\n",
       "      <th>9997</th>\n",
       "      <td>I had lost faith in Sooraj R. Barjatya after the movie Main Prem Ki Deewani hoon, then a year back now I saw promos for Vivah which looked good. But I didn't want to waste my hard earned money watching it in cinema. When the film first came out on DVD I rented it and watched and I loved the movi...</td>\n",
       "      <td>1</td>\n",
       "    </tr>\n",
       "    <tr>\n",
       "      <th>9998</th>\n",
       "      <td>This is one of the most calming, relaxing, and beautifully made animation films I've ever seen. With beautiful music throughout the movie, the sounds and music can make you feel like you're in the movie! This movie is not just great for kids, but adults too. It teaches you lessons, such as never...</td>\n",
       "      <td>1</td>\n",
       "    </tr>\n",
       "    <tr>\n",
       "      <th>9999</th>\n",
       "      <td>I recorded this ages ago but only got round to watching it today. I have been ill so had run out of stuff to watch! I am so glad I saw it, and which I could erase my memory and watch i again for the first time. This movie is so wonderful! It reminded me very much of Fried Green Tomatoes At The W...</td>\n",
       "      <td>1</td>\n",
       "    </tr>\n",
       "  </tbody>\n",
       "</table>\n",
       "<p>10000 rows × 2 columns</p>\n",
       "</div>"
      ],
      "text/plain": [
       "                                                                                                                                                                                                                                                                                                          message  \\\n",
       "0     I tried to finish this film three times, but it's god awful. Case in point: mom and daughter drive up to the bed and breakfast,mom stops for gas, crazy gas station weirdos mad at her hubby whose running the B&B; try to rape her. She escapes, heads to B&B; and instead of hubby going ballistic and...   \n",
       "1     I just got through watching this DVD at home. We love Westerns, so my husband rented it. He started apologizing to me half way through. The saddles, costumes, accents--everything was off. The part that made me so mad is where the guy didn't shoot the \"collector\" with his bow and arrow as he was ...   \n",
       "2     Oh my, this was the worst reunion movie I have ever seen. (That is saying a lot.) I am ashamed of watching.What happened in the script meetings? \"Ooooooh, I know! Let's have two stud muffins fall madly in love with the Most-Annoying-Character-Since-Cousin-Oliver.\" \"Yeah, that'll be cool!\"Even fo...   \n",
       "3     I'm sure this was one of those \"WOAH!\" attractions in 1982 when Epcot opened, but now it's just silly. The film's message is clich. The Circle-Vision is disorienting. And that awful song at the end is grating. And I really wish they'd install seats. After so much walking, all you want to do is s...   \n",
       "4     This was the worst movie I have ever seen Billy Zane in. I understand that this movie was mainly to showcase the new comers, who did pretty good for newbies, but over all, the movie was not believable.With all of the gunfire, you would think the police would have intervened. Even the coin being ...   \n",
       "...                                                                                                                                                                                                                                                                                                           ...   \n",
       "9995  One of the very best Three Stooges shorts ever. A spooky house full of evil guys and \"The Goon\" challenge the Alert Detective Agency's best men. Shemp is in top form in the famous in-the-dark scene. Emil Sitka provides excellent support in his Mr. Goodrich role, as the target of a murder plot. B...   \n",
       "9996  This film is close to be my favorite piece of celluloid. There is really not much I'd need or want to say here. Except maybe \"See this film\" and \"Enjoy the excellent work by Daniel and Pascal\", who carries you through this neat, funny and heartbreaking story about 'spending your eighth day' - yo...   \n",
       "9997  I had lost faith in Sooraj R. Barjatya after the movie Main Prem Ki Deewani hoon, then a year back now I saw promos for Vivah which looked good. But I didn't want to waste my hard earned money watching it in cinema. When the film first came out on DVD I rented it and watched and I loved the movi...   \n",
       "9998  This is one of the most calming, relaxing, and beautifully made animation films I've ever seen. With beautiful music throughout the movie, the sounds and music can make you feel like you're in the movie! This movie is not just great for kids, but adults too. It teaches you lessons, such as never...   \n",
       "9999  I recorded this ages ago but only got round to watching it today. I have been ill so had run out of stuff to watch! I am so glad I saw it, and which I could erase my memory and watch i again for the first time. This movie is so wonderful! It reminded me very much of Fried Green Tomatoes At The W...   \n",
       "\n",
       "      labels  \n",
       "0         -1  \n",
       "1         -1  \n",
       "2         -1  \n",
       "3         -1  \n",
       "4         -1  \n",
       "...      ...  \n",
       "9995       1  \n",
       "9996       1  \n",
       "9997       1  \n",
       "9998       1  \n",
       "9999       1  \n",
       "\n",
       "[10000 rows x 2 columns]"
      ]
     },
     "execution_count": 10,
     "metadata": {},
     "output_type": "execute_result"
    }
   ],
   "source": [
    "Features=['message','labels']\n",
    "full_Dataset=pd.DataFrame(fullDataset,columns=Features)\n",
    "full_Dataset"
   ]
  },
  {
   "cell_type": "code",
   "execution_count": 11,
   "metadata": {
    "colab": {
     "base_uri": "https://localhost:8080/",
     "height": 164
    },
    "id": "-FKHBAx2gCVP",
    "outputId": "1f1d83c1-96f2-4cc0-d319-91e453b87511"
   },
   "outputs": [
    {
     "data": {
      "text/plain": [
       " 1    5000\n",
       "-1    5000\n",
       "Name: labels, dtype: int64"
      ]
     },
     "execution_count": 11,
     "metadata": {},
     "output_type": "execute_result"
    }
   ],
   "source": [
    "#compte les categories de labels\n",
    "fullDataset['labels'].value_counts()"
   ]
  },
  {
   "cell_type": "markdown",
   "metadata": {
    "id": "jdFeWG7kvJCZ"
   },
   "source": [
    "### 2. Tokenisation du document"
   ]
  },
  {
   "cell_type": "code",
   "execution_count": 49,
   "metadata": {
    "colab": {
     "base_uri": "https://localhost:8080/"
    },
    "id": "ZHL3qRGtjFRo",
    "outputId": "39bde15d-7adf-4e8a-dcce-4dd5d55d2195"
   },
   "outputs": [
    {
     "name": "stdout",
     "output_type": "stream",
     "text": [
      "0\n"
     ]
    },
    {
     "name": "stderr",
     "output_type": "stream",
     "text": [
      "c:\\users\\sawdiatou samb\\appdata\\local\\programs\\python\\python37\\lib\\site-packages\\ipykernel_launcher.py:17: FutureWarning: The default value of regex will change from True to False in a future version.\n"
     ]
    }
   ],
   "source": [
    "# Check for whitespace strings (it's OK if there aren't any!):\n",
    "blanks = []  # start with an empty list\n",
    "\n",
    "for index,message,labels in full_Dataset.itertuples():  # iterate over the DataFrame\n",
    "    if type(labels)==str:            # avoid NaN values\n",
    "        if labels.isspace():         # test 'review' for whitespace\n",
    "            blanks.append(i)     # add matching index numbers to the list\n",
    "        \n",
    "print(len(blanks))\n",
    "\n",
    "# le resultat de la longueur de la liste blanks est 0 donc pas de whitespace\n",
    "\" =============================================== \"\n",
    "\n",
    "#expression reguliere qui remplace les caracteres differents de A a z et espace par rien('')\n",
    "#les whitespaces ou espace > 1 par 1 seul espace\n",
    "text = full_Dataset['message']\n",
    "messages = text.str.replace('[^A-z -]','').str.replace(' +',' ').str.strip()\n",
    "\n",
    "#splitwords = [ nltk.word_tokenize( str(message) ) for message in messages ]  # une facon de tokeniser\n",
    "#print(splitwords)  # ne s'affiche pas trop large\n",
    "\n"
   ]
  },
  {
   "cell_type": "markdown",
   "metadata": {},
   "source": [
    "#### Texte brut"
   ]
  },
  {
   "cell_type": "code",
   "execution_count": 50,
   "metadata": {},
   "outputs": [
    {
     "data": {
      "text/plain": [
       "0    [I, tried, to, finish, this, film, three, times, but, its, god, awful, Case, in, point, mom, and, daughter, drive, up, to, the, bed, and, breakfastmom, stops, for, gas, crazy, gas, station, weirdos, mad, at, her, hubby, whose, running, the, BB, try, to, rape, her, She, escapes, heads, to, BB, an...\n",
       "1    [I, just, got, through, watching, this, DVD, at, home, We, love, Westerns, so, my, husband, rented, it, He, started, apologizing, to, me, half, way, through, The, saddles, costumes, accents, --, everything, was, off, The, part, that, made, me, so, mad, is, where, the, guy, didnt, shoot, the, col...\n",
       "2    [Oh, my, this, was, the, worst, reunion, movie, I, have, ever, seen, That, is, saying, a, lot, I, am, ashamed, of, watchingWhat, happened, in, the, script, meetings, Ooooooh, I, know, Lets, have, two, stud, muffins, fall, madly, in, love, with, the, Most-Annoying-Character-Since-Cousin-Oliver, Y...\n",
       "3    [Im, sure, this, was, one, of, those, WOAH, attractions, in, when, Epcot, opened, but, now, its, just, silly, The, films, message, is, clich, The, Circle-Vision, is, disorienting, And, that, awful, song, at, the, end, is, grating, And, I, really, wish, theyd, install, seats, After, so, much, wal...\n",
       "4    [This, was, the, worst, movie, I, have, ever, seen, Billy, Zane, in, I, understand, that, this, movie, was, mainly, to, showcase, the, new, comers, who, did, pretty, good, for, newbies, but, over, all, the, movie, was, not, believableWith, all, of, the, gunfire, you, would, think, the, police, w...\n",
       "Name: message, dtype: object"
      ]
     },
     "execution_count": 50,
     "metadata": {},
     "output_type": "execute_result"
    }
   ],
   "source": [
    "messages_bruts = messages.apply(word_tokenize)  # une seconde maniere d'appliquer le meme outil\n",
    "messages_bruts.head()                           #par defaut les 5 premieres lignes"
   ]
  },
  {
   "cell_type": "markdown",
   "metadata": {},
   "source": [
    "#### Texte brut avec suppression stop-words"
   ]
  },
  {
   "cell_type": "code",
   "execution_count": 50,
   "metadata": {},
   "outputs": [
    {
     "data": {
      "text/plain": [
       "0    [I, tried, to, finish, this, film, three, times, but, its, god, awful, Case, in, point, mom, and, daughter, drive, up, to, the, bed, and, breakfastmom, stops, for, gas, crazy, gas, station, weirdos, mad, at, her, hubby, whose, running, the, BB, try, to, rape, her, She, escapes, heads, to, BB, an...\n",
       "1    [I, just, got, through, watching, this, DVD, at, home, We, love, Westerns, so, my, husband, rented, it, He, started, apologizing, to, me, half, way, through, The, saddles, costumes, accents, --, everything, was, off, The, part, that, made, me, so, mad, is, where, the, guy, didnt, shoot, the, col...\n",
       "2    [Oh, my, this, was, the, worst, reunion, movie, I, have, ever, seen, That, is, saying, a, lot, I, am, ashamed, of, watchingWhat, happened, in, the, script, meetings, Ooooooh, I, know, Lets, have, two, stud, muffins, fall, madly, in, love, with, the, Most-Annoying-Character-Since-Cousin-Oliver, Y...\n",
       "3    [Im, sure, this, was, one, of, those, WOAH, attractions, in, when, Epcot, opened, but, now, its, just, silly, The, films, message, is, clich, The, Circle-Vision, is, disorienting, And, that, awful, song, at, the, end, is, grating, And, I, really, wish, theyd, install, seats, After, so, much, wal...\n",
       "4    [This, was, the, worst, movie, I, have, ever, seen, Billy, Zane, in, I, understand, that, this, movie, was, mainly, to, showcase, the, new, comers, who, did, pretty, good, for, newbies, but, over, all, the, movie, was, not, believableWith, all, of, the, gunfire, you, would, think, the, police, w...\n",
       "Name: message, dtype: object"
      ]
     },
     "execution_count": 50,
     "metadata": {},
     "output_type": "execute_result"
    }
   ],
   "source": [
    "messages_bruts = messages.apply(word_tokenize)  # une seconde maniere d'appliquer le meme outil\n",
    "# a faire messages_bruts_sans_sw\n",
    "messages_bruts.head()                           #par defaut les 5 premieres lignes"
   ]
  },
  {
   "cell_type": "markdown",
   "metadata": {},
   "source": [
    "#### Lemmatisation avec wordnet"
   ]
  },
  {
   "cell_type": "code",
   "execution_count": 48,
   "metadata": {
    "colab": {
     "base_uri": "https://localhost:8080/"
    },
    "id": "k9ztpZVqhjbz",
    "outputId": "b9239a40-cdba-43a4-f46c-0ba4fff6a58e"
   },
   "outputs": [
    {
     "data": {
      "text/plain": [
       "0    [I, tried, to, finish, this, film, three, time, but, it, god, awful, Case, in, point, mom, and, daughter, drive, up, to, the, bed, and, breakfastmom, stop, for, gas, crazy, gas, station, weirdo, mad, at, her, hubby, whose, running, the, BB, try, to, rape, her, She, escape, head, to, BB, and, ins...\n",
       "1    [I, just, got, through, watching, this, DVD, at, home, We, love, Westerns, so, my, husband, rented, it, He, started, apologizing, to, me, half, way, through, The, saddle, costume, accent, --, everything, wa, off, The, part, that, made, me, so, mad, is, where, the, guy, didnt, shoot, the, collect...\n",
       "2    [Oh, my, this, wa, the, worst, reunion, movie, I, have, ever, seen, That, is, saying, a, lot, I, am, ashamed, of, watchingWhat, happened, in, the, script, meeting, Ooooooh, I, know, Lets, have, two, stud, muffin, fall, madly, in, love, with, the, Most-Annoying-Character-Since-Cousin-Oliver, Yeah...\n",
       "3    [Im, sure, this, wa, one, of, those, WOAH, attraction, in, when, Epcot, opened, but, now, it, just, silly, The, film, message, is, clich, The, Circle-Vision, is, disorienting, And, that, awful, song, at, the, end, is, grating, And, I, really, wish, theyd, install, seat, After, so, much, walking,...\n",
       "4    [This, wa, the, worst, movie, I, have, ever, seen, Billy, Zane, in, I, understand, that, this, movie, wa, mainly, to, showcase, the, new, comer, who, did, pretty, good, for, newbie, but, over, all, the, movie, wa, not, believableWith, all, of, the, gunfire, you, would, think, the, police, would,...\n",
       "Name: message, dtype: object"
      ]
     },
     "execution_count": 48,
     "metadata": {},
     "output_type": "execute_result"
    }
   ],
   "source": [
    "#importer les stop words en anglais \n",
    "stopwords = nltk.corpus.stopwords.words('english')\n",
    "wn = nltk.WordNetLemmatizer()\n",
    "\n",
    "def lemmatize_text(text):\n",
    "    return [wn.lemmatize(word) for word in text]\n",
    "\n",
    "messages_lemmes_wnet = messages.apply(lemmatize_text)\n",
    "\n",
    "messages_lemmes_wnet.head()    "
   ]
  },
  {
   "cell_type": "markdown",
   "metadata": {},
   "source": [
    "#### 3. Lemmatisation avec la librairie spacy"
   ]
  },
  {
   "cell_type": "code",
   "execution_count": 20,
   "metadata": {
    "colab": {
     "base_uri": "https://localhost:8080/",
     "height": 106
    },
    "id": "eAxYdGXCjFNl",
    "outputId": "135202ba-474e-4331-e146-8db14175482d"
   },
   "outputs": [
    {
     "data": {
      "text/html": [
       "<span class=\"tex2jax_ignore\"><div class=\"entities\" style=\"line-height: 2.5; direction: ltr\">A \n",
       "<mark class=\"entity\" style=\"background: #e4e7d2; padding: 0.45em 0.6em; margin: 0 0.25em; line-height: 1; border-radius: 0.35em;\">\n",
       "    three\n",
       "    <span style=\"font-size: 0.8em; font-weight: bold; line-height: 1; border-radius: 0.35em; text-transform: uppercase; vertical-align: middle; margin-left: 0.5rem\">CARDINAL</span>\n",
       "</mark>\n",
       " movie I really wanted to love was terrible. I'm sure the producers had the best intentions, but the execution was lacking.</div></span>"
      ],
      "text/plain": [
       "<IPython.core.display.HTML object>"
      ]
     },
     "metadata": {},
     "output_type": "display_data"
    }
   ],
   "source": [
    "from spacy import displacy\n",
    "doc = nlp(u\"A three movie I really wanted to love was terrible. \\\n",
    "I'm sure the producers had the best intentions, but the execution was lacking.\")\n",
    "displacy.render(doc, style='ent', jupyter=True)\n"
   ]
  },
  {
   "cell_type": "code",
   "execution_count": 51,
   "metadata": {
    "colab": {
     "base_uri": "https://localhost:8080/",
     "height": 87
    },
    "id": "AJ12ygf1jFF5",
    "outputId": "a6ccb5a7-0f47-4b0f-9203-101b3b4e5e8b"
   },
   "outputs": [
    {
     "data": {
      "text/html": [
       "<span class=\"tex2jax_ignore\"><div class=\"entities\" style=\"line-height: 2.5; direction: ltr\">I tried to finish this film \n",
       "<mark class=\"entity\" style=\"background: #e4e7d2; padding: 0.45em 0.6em; margin: 0 0.25em; line-height: 1; border-radius: 0.35em;\">\n",
       "    three\n",
       "    <span style=\"font-size: 0.8em; font-weight: bold; line-height: 1; border-radius: 0.35em; text-transform: uppercase; vertical-align: middle; margin-left: 0.5rem\">CARDINAL</span>\n",
       "</mark>\n",
       " times but its god awful Case in point mom and daughter drive up to the bed and breakfastmom stops for gas crazy gas station \n",
       "<mark class=\"entity\" style=\"background: #aa9cfc; padding: 0.45em 0.6em; margin: 0 0.25em; line-height: 1; border-radius: 0.35em;\">\n",
       "    weirdos mad\n",
       "    <span style=\"font-size: 0.8em; font-weight: bold; line-height: 1; border-radius: 0.35em; text-transform: uppercase; vertical-align: middle; margin-left: 0.5rem\">PERSON</span>\n",
       "</mark>\n",
       " at her hubby whose running the \n",
       "<mark class=\"entity\" style=\"background: #7aecec; padding: 0.45em 0.6em; margin: 0 0.25em; line-height: 1; border-radius: 0.35em;\">\n",
       "    BB\n",
       "    <span style=\"font-size: 0.8em; font-weight: bold; line-height: 1; border-radius: 0.35em; text-transform: uppercase; vertical-align: middle; margin-left: 0.5rem\">ORG</span>\n",
       "</mark>\n",
       " try to rape her She escapes heads to BB and instead of hubby going ballistic and she wanting to call the cops story just continues with lukewarm behavior on both their parts WowOther action logic deficits abound Acting is also lukewarm and the next door neighbors warning is delivered in a really corny badly acted momentMoments of intense goredeath unevenly interwoven with lukewarm scenes of time-filler interplay between charactersLess focus on \n",
       "<mark class=\"entity\" style=\"background: #aa9cfc; padding: 0.45em 0.6em; margin: 0 0.25em; line-height: 1; border-radius: 0.35em;\">\n",
       "    gore\n",
       "    <span style=\"font-size: 0.8em; font-weight: bold; line-height: 1; border-radius: 0.35em; text-transform: uppercase; vertical-align: middle; margin-left: 0.5rem\">PERSON</span>\n",
       "</mark>\n",
       " more focus on mood and story would have been appreciated</div></span>"
      ],
      "text/plain": [
       "<IPython.core.display.HTML object>"
      ]
     },
     "metadata": {},
     "output_type": "display_data"
    },
    {
     "data": {
      "text/html": [
       "<span class=\"tex2jax_ignore\"><div class=\"entities\" style=\"line-height: 2.5; direction: ltr\">I just got through watching this DVD at home We love Westerns so my husband rented it He started apologizing to me \n",
       "<mark class=\"entity\" style=\"background: #e4e7d2; padding: 0.45em 0.6em; margin: 0 0.25em; line-height: 1; border-radius: 0.35em;\">\n",
       "    half\n",
       "    <span style=\"font-size: 0.8em; font-weight: bold; line-height: 1; border-radius: 0.35em; text-transform: uppercase; vertical-align: middle; margin-left: 0.5rem\">CARDINAL</span>\n",
       "</mark>\n",
       " way through The saddles costumes accents--everything was off The part that made me so mad is where the guy didnt shoot the collector with his bow and arrow as he was taking the fat guys soul His only excuse was he only had arrows left We watched it all the way through and as someone else saidtoo many bad things to single out any \n",
       "<mark class=\"entity\" style=\"background: #e4e7d2; padding: 0.45em 0.6em; margin: 0 0.25em; line-height: 1; border-radius: 0.35em;\">\n",
       "    one\n",
       "    <span style=\"font-size: 0.8em; font-weight: bold; line-height: 1; border-radius: 0.35em; text-transform: uppercase; vertical-align: middle; margin-left: 0.5rem\">CARDINAL</span>\n",
       "</mark>\n",
       " reason why it sucked I mean the fact that the boy happened to snatch the evil stone from the collector on \n",
       "<mark class=\"entity\" style=\"background: #bfe1d9; padding: 0.45em 0.6em; margin: 0 0.25em; line-height: 1; border-radius: 0.35em;\">\n",
       "    the same month\n",
       "    <span style=\"font-size: 0.8em; font-weight: bold; line-height: 1; border-radius: 0.35em; text-transform: uppercase; vertical-align: middle; margin-left: 0.5rem\">DATE</span>\n",
       "</mark>\n",
       " and day it was found whats the point of that And why were there a grave yard where everyone died on \n",
       "<mark class=\"entity\" style=\"background: #bfe1d9; padding: 0.45em 0.6em; margin: 0 0.25em; line-height: 1; border-radius: 0.35em;\">\n",
       "    April\n",
       "    <span style=\"font-size: 0.8em; font-weight: bold; line-height: 1; border-radius: 0.35em; text-transform: uppercase; vertical-align: middle; margin-left: 0.5rem\">DATE</span>\n",
       "</mark>\n",
       " but the people whose souls were taken by the collector were still up walking around If you want a movie to make fun of after a few beers this may be your movie However if you want a real Western you will hate this movie</div></span>"
      ],
      "text/plain": [
       "<IPython.core.display.HTML object>"
      ]
     },
     "metadata": {},
     "output_type": "display_data"
    },
    {
     "data": {
      "text/html": [
       "<span class=\"tex2jax_ignore\"><div class=\"entities\" style=\"line-height: 2.5; direction: ltr\">Oh my this was the worst reunion movie I have ever seen That is saying a lot I am ashamed of watchingWhat happened in the script meetings \n",
       "<mark class=\"entity\" style=\"background: #aa9cfc; padding: 0.45em 0.6em; margin: 0 0.25em; line-height: 1; border-radius: 0.35em;\">\n",
       "    Ooooooh\n",
       "    <span style=\"font-size: 0.8em; font-weight: bold; line-height: 1; border-radius: 0.35em; text-transform: uppercase; vertical-align: middle; margin-left: 0.5rem\">PERSON</span>\n",
       "</mark>\n",
       " I know \n",
       "<mark class=\"entity\" style=\"background: #7aecec; padding: 0.45em 0.6em; margin: 0 0.25em; line-height: 1; border-radius: 0.35em;\">\n",
       "    Lets\n",
       "    <span style=\"font-size: 0.8em; font-weight: bold; line-height: 1; border-radius: 0.35em; text-transform: uppercase; vertical-align: middle; margin-left: 0.5rem\">ORG</span>\n",
       "</mark>\n",
       " have \n",
       "<mark class=\"entity\" style=\"background: #e4e7d2; padding: 0.45em 0.6em; margin: 0 0.25em; line-height: 1; border-radius: 0.35em;\">\n",
       "    two\n",
       "    <span style=\"font-size: 0.8em; font-weight: bold; line-height: 1; border-radius: 0.35em; text-transform: uppercase; vertical-align: middle; margin-left: 0.5rem\">CARDINAL</span>\n",
       "</mark>\n",
       " stud muffins fall madly in love with the Most-Annoying-Character-Since-Cousin-Oliver Yeah thatll be coolEven for sitcoms this was the most implausible plot since \n",
       "<mark class=\"entity\" style=\"background: #aa9cfc; padding: 0.45em 0.6em; margin: 0 0.25em; line-height: 1; border-radius: 0.35em;\">\n",
       "    Ron\n",
       "    <span style=\"font-size: 0.8em; font-weight: bold; line-height: 1; border-radius: 0.35em; text-transform: uppercase; vertical-align: middle; margin-left: 0.5rem\">PERSON</span>\n",
       "</mark>\n",
       " Popeil starting spray painting bald men</div></span>"
      ],
      "text/plain": [
       "<IPython.core.display.HTML object>"
      ]
     },
     "metadata": {},
     "output_type": "display_data"
    },
    {
     "data": {
      "text/html": [
       "<span class=\"tex2jax_ignore\"><div class=\"entities\" style=\"line-height: 2.5; direction: ltr\">Im sure this was one of those WOAH attractions in when \n",
       "<mark class=\"entity\" style=\"background: #aa9cfc; padding: 0.45em 0.6em; margin: 0 0.25em; line-height: 1; border-radius: 0.35em;\">\n",
       "    Epcot\n",
       "    <span style=\"font-size: 0.8em; font-weight: bold; line-height: 1; border-radius: 0.35em; text-transform: uppercase; vertical-align: middle; margin-left: 0.5rem\">PERSON</span>\n",
       "</mark>\n",
       " opened but now its just silly The films message is clich \n",
       "<mark class=\"entity\" style=\"background: #f0d0ff; padding: 0.45em 0.6em; margin: 0 0.25em; line-height: 1; border-radius: 0.35em;\">\n",
       "    The Circle-Vision\n",
       "    <span style=\"font-size: 0.8em; font-weight: bold; line-height: 1; border-radius: 0.35em; text-transform: uppercase; vertical-align: middle; margin-left: 0.5rem\">WORK_OF_ART</span>\n",
       "</mark>\n",
       " is disorienting And that awful song at the end is grating And I really wish theyd install seats After so much walking all you want to do is sit down for \n",
       "<mark class=\"entity\" style=\"background: #bfe1d9; padding: 0.45em 0.6em; margin: 0 0.25em; line-height: 1; border-radius: 0.35em;\">\n",
       "    a few minutes\n",
       "    <span style=\"font-size: 0.8em; font-weight: bold; line-height: 1; border-radius: 0.35em; text-transform: uppercase; vertical-align: middle; margin-left: 0.5rem\">TIME</span>\n",
       "</mark>\n",
       " And when you hear theres a film to see it sounds pretty glamorous You get entertained while sitting down right WRONG Youre standing there for \n",
       "<mark class=\"entity\" style=\"background: #bfe1d9; padding: 0.45em 0.6em; margin: 0 0.25em; line-height: 1; border-radius: 0.35em;\">\n",
       "    minutes\n",
       "    <span style=\"font-size: 0.8em; font-weight: bold; line-height: 1; border-radius: 0.35em; text-transform: uppercase; vertical-align: middle; margin-left: 0.5rem\">TIME</span>\n",
       "</mark>\n",
       " leaning against a short little railing \n",
       "<mark class=\"entity\" style=\"background: #7aecec; padding: 0.45em 0.6em; margin: 0 0.25em; line-height: 1; border-radius: 0.35em;\">\n",
       "    Disney\n",
       "    <span style=\"font-size: 0.8em; font-weight: bold; line-height: 1; border-radius: 0.35em; text-transform: uppercase; vertical-align: middle; margin-left: 0.5rem\">ORG</span>\n",
       "</mark>\n",
       " should make a newer Maelstrom like attraction to liven things up and replace this dull lackluster film NOT FUN Skip it In fact skip \n",
       "<mark class=\"entity\" style=\"background: #feca74; padding: 0.45em 0.6em; margin: 0 0.25em; line-height: 1; border-radius: 0.35em;\">\n",
       "    Canada\n",
       "    <span style=\"font-size: 0.8em; font-weight: bold; line-height: 1; border-radius: 0.35em; text-transform: uppercase; vertical-align: middle; margin-left: 0.5rem\">GPE</span>\n",
       "</mark>\n",
       " altogether unless youre eating there Move directly to \n",
       "<mark class=\"entity\" style=\"background: #feca74; padding: 0.45em 0.6em; margin: 0 0.25em; line-height: 1; border-radius: 0.35em;\">\n",
       "    the United Kingdom\n",
       "    <span style=\"font-size: 0.8em; font-weight: bold; line-height: 1; border-radius: 0.35em; text-transform: uppercase; vertical-align: middle; margin-left: 0.5rem\">GPE</span>\n",
       "</mark>\n",
       "</div></span>"
      ],
      "text/plain": [
       "<IPython.core.display.HTML object>"
      ]
     },
     "metadata": {},
     "output_type": "display_data"
    },
    {
     "data": {
      "text/html": [
       "<span class=\"tex2jax_ignore\"><div class=\"entities\" style=\"line-height: 2.5; direction: ltr\">This was the worst movie I have ever seen \n",
       "<mark class=\"entity\" style=\"background: #aa9cfc; padding: 0.45em 0.6em; margin: 0 0.25em; line-height: 1; border-radius: 0.35em;\">\n",
       "    Billy Zane\n",
       "    <span style=\"font-size: 0.8em; font-weight: bold; line-height: 1; border-radius: 0.35em; text-transform: uppercase; vertical-align: middle; margin-left: 0.5rem\">PERSON</span>\n",
       "</mark>\n",
       " in I understand that this movie was mainly to showcase the new comers who did pretty good for newbies but over all the movie was not believableWith all of the gunfire you would think the police would have intervened Even the coin being a bug on \n",
       "<mark class=\"entity\" style=\"background: #aa9cfc; padding: 0.45em 0.6em; margin: 0 0.25em; line-height: 1; border-radius: 0.35em;\">\n",
       "    Sean\n",
       "    <span style=\"font-size: 0.8em; font-weight: bold; line-height: 1; border-radius: 0.35em; text-transform: uppercase; vertical-align: middle; margin-left: 0.5rem\">PERSON</span>\n",
       "</mark>\n",
       " was stupid The way \n",
       "<mark class=\"entity\" style=\"background: #c887fb; padding: 0.45em 0.6em; margin: 0 0.25em; line-height: 1; border-radius: 0.35em;\">\n",
       "    Sean\n",
       "    <span style=\"font-size: 0.8em; font-weight: bold; line-height: 1; border-radius: 0.35em; text-transform: uppercase; vertical-align: middle; margin-left: 0.5rem\">NORP</span>\n",
       "</mark>\n",
       " suddenly realizes the coin is the bug was not realisticLooks like this movie was slapped together fast Poor job Get a better writerThe count down to the end was not in sync with anything It took longer to fight And what a coincidence that each time \n",
       "<mark class=\"entity\" style=\"background: #aa9cfc; padding: 0.45em 0.6em; margin: 0 0.25em; line-height: 1; border-radius: 0.35em;\">\n",
       "    Billy\n",
       "    <span style=\"font-size: 0.8em; font-weight: bold; line-height: 1; border-radius: 0.35em; text-transform: uppercase; vertical-align: middle; margin-left: 0.5rem\">PERSON</span>\n",
       "</mark>\n",
       " was going to blast \n",
       "<mark class=\"entity\" style=\"background: #aa9cfc; padding: 0.45em 0.6em; margin: 0 0.25em; line-height: 1; border-radius: 0.35em;\">\n",
       "    Sean\n",
       "    <span style=\"font-size: 0.8em; font-weight: bold; line-height: 1; border-radius: 0.35em; text-transform: uppercase; vertical-align: middle; margin-left: 0.5rem\">PERSON</span>\n",
       "</mark>\n",
       " hed be out of bullets Once I can believe but not twiceActually \n",
       "<mark class=\"entity\" style=\"background: #aa9cfc; padding: 0.45em 0.6em; margin: 0 0.25em; line-height: 1; border-radius: 0.35em;\">\n",
       "    Billys\n",
       "    <span style=\"font-size: 0.8em; font-weight: bold; line-height: 1; border-radius: 0.35em; text-transform: uppercase; vertical-align: middle; margin-left: 0.5rem\">PERSON</span>\n",
       "</mark>\n",
       " character was goofy It was so stupid when Sean punches him out at the end It was like a comedy Bad Bad Bad</div></span>"
      ],
      "text/plain": [
       "<IPython.core.display.HTML object>"
      ]
     },
     "metadata": {},
     "output_type": "display_data"
    }
   ],
   "source": [
    "#cette partie de code mets du temps a l'execution. Patience !\n",
    "import spacy\n",
    "nlp = spacy.load('en_core_web_sm')\n",
    "\n",
    "# Import the displaCy library\n",
    "from spacy import displacy\n",
    "\n",
    "messages_lemmes_spacy = messages.apply(nlp)\n",
    "\n",
    "#affiche le resultat pour les 5 premieres lignes\n",
    "for message in messages_lemmes_spacy.head():\n",
    "    displacy.render(message, style='ent', jupyter=True)\n",
    "\n"
   ]
  },
  {
   "cell_type": "markdown",
   "metadata": {
    "id": "fP3g-ZLvjFnB"
   },
   "source": [
    "# Split the data into train & test sets:"
   ]
  },
  {
   "cell_type": "code",
   "execution_count": 16,
   "metadata": {
    "id": "Gf0AE1j2jKGU"
   },
   "outputs": [
    {
     "ename": "ModuleNotFoundError",
     "evalue": "No module named 'sklearn'",
     "output_type": "error",
     "traceback": [
      "\u001b[1;31m---------------------------------------------------------------------------\u001b[0m",
      "\u001b[1;31mModuleNotFoundError\u001b[0m                       Traceback (most recent call last)",
      "\u001b[1;32m<ipython-input-16-ea3d11f65cf8>\u001b[0m in \u001b[0;36m<module>\u001b[1;34m\u001b[0m\n\u001b[1;32m----> 1\u001b[1;33m \u001b[1;32mfrom\u001b[0m \u001b[0msklearn\u001b[0m\u001b[1;33m.\u001b[0m\u001b[0mmodel_selection\u001b[0m \u001b[1;32mimport\u001b[0m \u001b[0mtrain_test_split\u001b[0m\u001b[1;33m\u001b[0m\u001b[1;33m\u001b[0m\u001b[0m\n\u001b[0m\u001b[0;32m      2\u001b[0m \u001b[1;33m\u001b[0m\u001b[0m\n\u001b[0;32m      3\u001b[0m \u001b[0mX\u001b[0m \u001b[1;33m=\u001b[0m \u001b[0mfull_Dataset\u001b[0m\u001b[1;33m[\u001b[0m\u001b[1;34m'message'\u001b[0m\u001b[1;33m]\u001b[0m  \u001b[1;31m# this time we want to look at the text\u001b[0m\u001b[1;33m\u001b[0m\u001b[1;33m\u001b[0m\u001b[0m\n\u001b[0;32m      4\u001b[0m \u001b[0my\u001b[0m \u001b[1;33m=\u001b[0m \u001b[0mfull_Dataset\u001b[0m\u001b[1;33m[\u001b[0m\u001b[1;34m'labels'\u001b[0m\u001b[1;33m]\u001b[0m\u001b[1;33m\u001b[0m\u001b[1;33m\u001b[0m\u001b[0m\n\u001b[0;32m      5\u001b[0m \u001b[1;33m\u001b[0m\u001b[0m\n",
      "\u001b[1;31mModuleNotFoundError\u001b[0m: No module named 'sklearn'"
     ]
    }
   ],
   "source": [
    "from sklearn.model_selection import train_test_split\n",
    "\n",
    "X = full_Dataset['message']  # this time we want to look at the text\n",
    "y = full_Dataset['labels']\n",
    "\n",
    "X_train, X_test, y_train, y_test = train_test_split(X, y, test_size=0.33, random_state=42)"
   ]
  },
  {
   "cell_type": "markdown",
   "metadata": {
    "id": "VFv6uLNzjagK"
   },
   "source": [
    "# Scikit-learn's CountVectorizer\n",
    "Text preprocessing, tokenizing and the ability to filter out stopwords are all included in CountVectorizer, which builds a dictionary of features and transforms documents to feature vectors."
   ]
  },
  {
   "cell_type": "code",
   "execution_count": null,
   "metadata": {
    "id": "e7ABfkjUjQ5b"
   },
   "outputs": [],
   "source": [
    "from sklearn.feature_extraction.text import CountVectorizer\n",
    "count_vect = CountVectorizer()\n",
    "\n",
    "X_train_counts = count_vect.fit_transform(X_train)\n",
    "X_train_counts.shape"
   ]
  },
  {
   "cell_type": "markdown",
   "metadata": {
    "id": "1erzQa4Qj4nN"
   },
   "source": [
    "This shows that our training set is comprised of 6700 documents, and 42772 features."
   ]
  },
  {
   "cell_type": "markdown",
   "metadata": {
    "id": "vlGdMjOfkY80"
   },
   "source": [
    "# Transform Counts to Frequencies with Tf-idf\n",
    "While counting words is helpful, longer documents will have higher average count values than shorter documents, even though they might talk about the same topics.\n",
    "To avoid this we can simply divide the number of occurrences of each word in a document by the total number of words in the document: these new features are called tf for Term Frequencies.\n",
    "Another refinement on top of tf is to downscale weights for words that occur in many documents in the corpus and are therefore less informative than those that occur only in a smaller portion of the corpus.\n",
    "This downscaling is called tf–idf for “Term Frequency times Inverse Document Frequency”.\n",
    "Both tf and tf–idf can be computed as follows using TfidfTransformer:"
   ]
  },
  {
   "cell_type": "code",
   "execution_count": null,
   "metadata": {
    "id": "vZAbrCrrjlhl"
   },
   "outputs": [],
   "source": [
    "from sklearn.feature_extraction.text import TfidfTransformer\n",
    "tfidf_transformer = TfidfTransformer()\n",
    "\n",
    "X_train_tfidf = tfidf_transformer.fit_transform(X_train_counts)\n",
    "X_train_tfidf.shape\n",
    "print(X_train_tfidf)"
   ]
  },
  {
   "cell_type": "markdown",
   "metadata": {
    "id": "Q6qI4mSFkrzO"
   },
   "source": [
    "# Combine Steps with TfidVectorizer\n",
    "In the future, we can combine the CountVectorizer and TfidTransformer steps into one using TfidVectorizer:"
   ]
  },
  {
   "cell_type": "code",
   "execution_count": null,
   "metadata": {
    "id": "fgI94-0RkfXL"
   },
   "outputs": [],
   "source": [
    "from sklearn.feature_extraction.text import TfidfVectorizer\n",
    "vectorizer = TfidfVectorizer()\n",
    "\n",
    "X_train_tfidf = vectorizer.fit_transform(X_train) # remember to use the original X_train set\n",
    "X_train_tfidf.shape"
   ]
  },
  {
   "cell_type": "markdown",
   "metadata": {
    "id": "Phvbhy8s5qOu"
   },
   "source": [
    "# Train a Classifier\n",
    "Here we'll introduce an SVM classifier that's similar to SVC, called LinearSVC. LinearSVC handles sparse input better, and scales well to large numbers of samples."
   ]
  },
  {
   "cell_type": "code",
   "execution_count": null,
   "metadata": {
    "id": "k0gSUw_jkxbj"
   },
   "outputs": [],
   "source": [
    "from sklearn.svm import LinearSVC\n",
    "clf = LinearSVC()\n",
    "clf.fit(X_train_tfidf,y_train)"
   ]
  },
  {
   "cell_type": "markdown",
   "metadata": {
    "id": "CrF9R_Nc6V2I"
   },
   "source": [
    "#  1- Earlier we named our SVC classifier svc_model. Here we're using the more generic name clf (for classifier)."
   ]
  },
  {
   "cell_type": "markdown",
   "metadata": {
    "id": "z9bP03Cx64Op"
   },
   "source": [
    "## Build a Pipeline\n",
    "Remember that only our training set has been vectorized into a full vocabulary. In order to perform an analysis on our test set we'll have to submit it to the same procedures. Fortunately scikit-learn offers a Pipeline class that behaves like a compound classifier."
   ]
  },
  {
   "cell_type": "code",
   "execution_count": null,
   "metadata": {
    "id": "XIgEbv1l5xFk"
   },
   "outputs": [],
   "source": [
    "from sklearn.pipeline import Pipeline\n",
    "# from sklearn.feature_extraction.text import TfidfVectorizer\n",
    "# from sklearn.svm import LinearSVC\n",
    "\n",
    "text_clf = Pipeline([('tfidf', TfidfVectorizer()),\n",
    "                     ('clf', LinearSVC()),\n",
    "])\n",
    "\n",
    "# Feed the training data through the pipeline\n",
    "text_clf.fit(X_train, y_train)  "
   ]
  },
  {
   "cell_type": "markdown",
   "metadata": {
    "id": "3P2CK56T7OTi"
   },
   "source": [
    "### Test the classifier and display results"
   ]
  },
  {
   "cell_type": "code",
   "execution_count": null,
   "metadata": {
    "id": "i4mp8f8O7AjG"
   },
   "outputs": [],
   "source": [
    "# Form a prediction set\n",
    "predictions = text_clf.predict(X_test)"
   ]
  },
  {
   "cell_type": "code",
   "execution_count": null,
   "metadata": {
    "id": "shbJ0ApO7cOJ"
   },
   "outputs": [],
   "source": [
    "# Report the confusion matrix\n",
    "from sklearn import metrics\n",
    "print(metrics.confusion_matrix(y_test,predictions))"
   ]
  },
  {
   "cell_type": "code",
   "execution_count": null,
   "metadata": {
    "id": "dIJ_17PE7gXd"
   },
   "outputs": [],
   "source": [
    "# Print a classification report\n",
    "print(metrics.classification_report(y_test,predictions))"
   ]
  },
  {
   "cell_type": "code",
   "execution_count": null,
   "metadata": {
    "id": "_ub1TJhq7o_s"
   },
   "outputs": [],
   "source": [
    "# Print the overall accuracy\n",
    "print('The prediction score :',metrics.accuracy_score(y_test,predictions))"
   ]
  },
  {
   "cell_type": "markdown",
   "metadata": {
    "id": "RhUGv4eoA8W9"
   },
   "source": [
    "## ==========  Sentence of test  ======="
   ]
  },
  {
   "cell_type": "code",
   "execution_count": null,
   "metadata": {
    "id": "bkmPlMf_A7o0"
   },
   "outputs": [],
   "source": [
    "myreview = \"A movie I really wanted to love was terrible. \\\n",
    "I'm sure the producers had the best intentions, but the execution was lacking.\""
   ]
  },
  {
   "cell_type": "code",
   "execution_count": null,
   "metadata": {
    "id": "wyK7b26uA76W"
   },
   "outputs": [],
   "source": [
    "print(text_clf_nb.predict([myreview]))  # be sure to put \"myreview\" inside square brackets"
   ]
  },
  {
   "cell_type": "markdown",
   "metadata": {
    "id": "NGmYsfB7BQOs"
   },
   "source": [
    "# interpretation\n",
    "[-1] means that the opinion is negative  "
   ]
  },
  {
   "cell_type": "code",
   "execution_count": null,
   "metadata": {
    "id": "7H48-r7eCl4c"
   },
   "outputs": [],
   "source": [
    "myreview2 = \"A movie I really liked.\""
   ]
  },
  {
   "cell_type": "code",
   "execution_count": null,
   "metadata": {
    "id": "F_443rCbCm-E"
   },
   "outputs": [],
   "source": [
    "print(text_clf_nb.predict([myreview2]))  # be sure to put \"myreview\" inside square brackets"
   ]
  },
  {
   "cell_type": "markdown",
   "metadata": {
    "id": "p6grzPOtDnvi"
   },
   "source": [
    "[1] means that the opinion is positive\n",
    "\n",
    "== Lol si tu comprends l'englais =="
   ]
  },
  {
   "cell_type": "markdown",
   "metadata": {
    "id": "r1u3ceNb8Eug"
   },
   "source": [
    "# 2- Train a Logistic Regression classifier"
   ]
  },
  {
   "cell_type": "code",
   "execution_count": null,
   "metadata": {
    "id": "TeahKQUm8Yym"
   },
   "outputs": [],
   "source": []
  },
  {
   "cell_type": "code",
   "execution_count": null,
   "metadata": {
    "id": "KWgNkONR8Y7M"
   },
   "outputs": [],
   "source": []
  },
  {
   "cell_type": "code",
   "execution_count": null,
   "metadata": {
    "id": "o-qeUXUkvZAS"
   },
   "outputs": [],
   "source": []
  },
  {
   "cell_type": "markdown",
   "metadata": {
    "id": "56H_GphtMGQk"
   },
   "source": []
  },
  {
   "cell_type": "code",
   "execution_count": null,
   "metadata": {
    "id": "XNkOE_f1MG-_"
   },
   "outputs": [],
   "source": []
  },
  {
   "cell_type": "markdown",
   "metadata": {
    "id": "4i1dNlRl8Rzu"
   },
   "source": [
    "# 3-Train a naïve Bayes classifier:"
   ]
  },
  {
   "cell_type": "code",
   "execution_count": null,
   "metadata": {
    "id": "I-q6FdmZ8arT"
   },
   "outputs": [],
   "source": [
    "from sklearn.naive_bayes import MultinomialNB\n",
    "# Naïve Bayes:\n",
    "text_clf_nb = Pipeline([('tfidf', TfidfVectorizer()),\n",
    "                     ('clf', MultinomialNB()),\n",
    "])\n",
    "\n",
    "# Linear SVC:\n",
    "text_clf_lsvc = Pipeline([('tfidf', TfidfVectorizer()),\n",
    "                     ('clf', LinearSVC()),\n",
    "])"
   ]
  },
  {
   "cell_type": "code",
   "execution_count": null,
   "metadata": {
    "id": "wLLYt05a73f1"
   },
   "outputs": [],
   "source": [
    "# Run predictions and analyze the results (naïve Bayes) \n",
    "text_clf_nb.fit(X_train, y_train)\n",
    "# Form a prediction set\n",
    "predictions = text_clf_nb.predict(X_test)\n",
    "# Report the confusion matrix\n",
    "from sklearn import metrics\n",
    "print(metrics.confusion_matrix(y_test,predictions))\n",
    "# Print a classification report\n",
    "print(metrics.classification_report(y_test,predictions))"
   ]
  },
  {
   "cell_type": "code",
   "execution_count": null,
   "metadata": {
    "id": "tlAVah9Z_ytd"
   },
   "outputs": [],
   "source": [
    "# Print the overall accuracy\n",
    "print('The prediction score :',metrics.accuracy_score(y_test,predictions))"
   ]
  },
  {
   "cell_type": "markdown",
   "metadata": {
    "id": "nxZE2df08bXI"
   },
   "source": [
    "# Conclusion "
   ]
  },
  {
   "cell_type": "code",
   "execution_count": null,
   "metadata": {
    "id": "CCFtgPME-jnJ"
   },
   "outputs": [],
   "source": []
  },
  {
   "cell_type": "markdown",
   "metadata": {},
   "source": [
    "## Etape 2 : Prétraitements des documents\n",
    "Vous utiliserez les différents types de données d'entrée selon les prétraitements. ​Le but est d'utiliser vos textes avec différentes informations, en préparant 3 versions du corpus :\n",
    "(1) Textes bruts (avec ou sans suppression de stop-words),\n",
    "(2) Textes lemmatisés,\n",
    "(3) Textes lemmatisés avec analyse morphosyntaxique (à l'aide de l'outil Tree-tagger vu en cours).\n",
    "\n",
    "Pensez à la possibilité d'appliquer des prétraitements personnalisés selon vos besoins et votre corpus (e.g., liste de stop-words personnalisée). Avec l'outil Tree-tagger (​http://www.cis.unimuenchen.de/~schmid/tools/TreeTagger/​) vous pouvez ajouter à chaque mot sa catégorie grammaticale et enrichir l'espace des descripteurs et ainsi comprendre si cette information peut aider (ou non) à classer votre corpus. Attention au format d'entrée utilisé par Tree-tagger. Vous pouvez également vous intéresser à d'autres types de connaissances linguistiques (par exemple, la terminologie, la sémantique, etc.).\n",
    "Si vous utilisez Scikit Learn, il est possible d’utiliser les librairies NLTK ou Scapy pour faire l’analyse lexicale.\n",
    " \n",
    "## Etape 3 : Mise en oeuvre d'algorithmes de classification\n",
    "La suite du travail consistera à utiliser Weka et à évaluer rigoureusement les résultats de classification obtenus en prenant en entrée les différents corpus préparés dans l'étape précédent. Rappelons que de nombreuses approches d'apprentissage peuvent alors être utilisées pour la classification de textes :\n",
    "• K plus proches voisins,\n",
    "• Arbres de décisions,\n",
    "• Naïve Bayes,\n",
    "• Machines à support de vecteurs \n",
    "• Les règles d'association\n",
    "• Ensemble classifier\n",
    "\n",
    "Paramétrage : Pour chaque méthode de classification, il existe plusieurs paramètres à choisir, tels que le paramètre K de l'algorithme des KPPV, le noyau pour les SVM, le support pour les règles, etc.\n",
    "\n",
    "Dans le cas de Scikit Learn, il est possible d’utiliser la fonction gridsearchCV pour tester différents classifieurs.\n",
    "\n",
    "## Etape 4 : Analyse\n",
    "Une analyse complète de la qualité de la classification selon les différents types d'entrées et types de prétraitements par modèle de classification et paramétrage doit être proposée. Autrement dit, les combinaisons différentes de modèle + paramètres + pondération + type de données d'entrée donneront des performances différentes. A vous de les comparer et configurer votre fonction de classification pour qu'elle soit le plus performante possible sur les données de test en proposant une analyse approfondie de vos résultats.\n",
    "Remarque 1 : L​ e thème de la classification des textes laisse penser que certains types de mots peuvent se révéler particulièrement discriminants (par exemple, les adjectifs pour la classification d'opinion). Une discussion sur l'influence de tels marqueurs morphosyntaxiques sera bienvenue. Remarque 2 :​ Différents traitements (par exemple, pondérations, algorithmes de fouille de données comme l'extraction des règles d'association) ont été proposés par les encadrants du projet. Vous pourrez vous en inspirer pour présenter des résultats complémentaires aux résultats de classification.\n",
    "Remarque 3 : A​ ttention à la négation : est-ce qu'une opinion contenant le mot “génial” est forcément positive...? Comment traiter ce problème ?\n",
    "Organisation\n",
    "- Le travail s'effectuera en groupes de maximum 3 étudiants.\n",
    "- Une soutenance orale de 20 minutes suivie de 10 minutes de questions est prévue à la fin du semestre. La soutenance a pour objectif de vous permettre de présenter vos approches, vos choix et de mettre en avant également l'analyse des résultats que vous avez obtenu. Il est inutile de perdre du temps lors de la présentation sur les données initiales (qui sont communes) ni sur la problématique du projet ou bien la théorie des méthodes utilisées.\n",
    "- Le rendu final consiste en :\n",
    "1. Rapport de ​max 10 pages décrivant les principaux pré-traitements et choix effectués ainsi que l’analyse de résultats. Ici aussi il n’est pas nécessaire de parler des données\n",
    "\n",
    "qui sont communes à tout le monde.\n",
    "2. Les codes de l'ensemble des traitements automatiques"
   ]
  }
 ],
 "metadata": {
  "colab": {
   "name": "Projet_NLP_Fouille_de_donnees.ipynb",
   "provenance": []
  },
  "kernelspec": {
   "display_name": "Python 3",
   "language": "python",
   "name": "python3"
  },
  "language_info": {
   "codemirror_mode": {
    "name": "ipython",
    "version": 3
   },
   "file_extension": ".py",
   "mimetype": "text/x-python",
   "name": "python",
   "nbconvert_exporter": "python",
   "pygments_lexer": "ipython3",
   "version": "3.7.9"
  }
 },
 "nbformat": 4,
 "nbformat_minor": 1
}
